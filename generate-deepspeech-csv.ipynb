{
 "cells": [
  {
   "cell_type": "code",
   "execution_count": null,
   "metadata": {},
   "outputs": [],
   "source": [
    "import os\n",
    "import numpy as np\n",
    "import pandas as pd\n",
    "from scipy.io import wavfile\n",
    "from tqdm import tqdm\n",
    "from utils import which_set"
   ]
  },
  {
   "cell_type": "code",
   "execution_count": null,
   "metadata": {},
   "outputs": [],
   "source": [
    "BASE_TRAIN_FOLDER_SPEC = \"spectrograms/\"\n",
    "BASE_TRAIN_FOLDER_WAV = \"wav_data/train/audio/\""
   ]
  },
  {
   "cell_type": "code",
   "execution_count": null,
   "metadata": {},
   "outputs": [],
   "source": [
    "def generate_deepspeech_files(validation_percentage=10, testing_percentage=10):\n",
    "    result = []\n",
    "    \n",
    "    for label in os.listdir(BASE_TRAIN_FOLDER_WAV):\n",
    "        label_folder_wav = os.path.join(BASE_TRAIN_FOLDER_WAV, label)\n",
    "        if not os.path.isdir(label_folder_wav):\n",
    "            continue\n",
    "        if label.startswith('_'):\n",
    "            continue\n",
    "\n",
    "        label_files = [\n",
    "            filename for filename in os.listdir(label_folder_wav) \n",
    "            if filename.endswith('.wav')\n",
    "        ]\n",
    "        for i, filename in tqdm(enumerate(label_files), desc=f\"{label}\"):\n",
    "            file_path = os.path.join(label_folder_wav, filename)\n",
    "            in_sample_rate, samples = wavfile.read(file_path)\n",
    "\n",
    "            result.append({\n",
    "                \"wav_filename\": os.path.abspath(file_path),\n",
    "                \"wav_filesize\": len(samples),\n",
    "                \"transcript\": label,\n",
    "                \"set\": which_set(filename, validation_percentage, testing_percentage)\n",
    "            })\n",
    "            \n",
    "    return pd.DataFrame(result)"
   ]
  },
  {
   "cell_type": "code",
   "execution_count": null,
   "metadata": {},
   "outputs": [],
   "source": [
    "r = generate_deepspeech_files()"
   ]
  },
  {
   "cell_type": "code",
   "execution_count": null,
   "metadata": {},
   "outputs": [],
   "source": [
    "r.head()"
   ]
  },
  {
   "cell_type": "code",
   "execution_count": null,
   "metadata": {},
   "outputs": [],
   "source": [
    "for set_name, data in df.groupby('set'):\n",
    "    data[[\"wav_filename\", \"wav_filesize\", \"transcript\"]].to_csv(f\"ds-ft-{set_name}.csv\", index=False)"
   ]
  }
 ],
 "metadata": {
  "kernelspec": {
   "display_name": "Python 3",
   "language": "python",
   "name": "python3"
  },
  "language_info": {
   "codemirror_mode": {
    "name": "ipython",
    "version": 3
   },
   "file_extension": ".py",
   "mimetype": "text/x-python",
   "name": "python",
   "nbconvert_exporter": "python",
   "pygments_lexer": "ipython3",
   "version": "3.7.1"
  }
 },
 "nbformat": 4,
 "nbformat_minor": 2
}
