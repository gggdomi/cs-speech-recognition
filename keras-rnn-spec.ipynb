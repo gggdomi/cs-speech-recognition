{
 "cells": [
  {
   "cell_type": "markdown",
   "metadata": {},
   "source": [
    "### Description :\n",
    "Using a quite simple RNN on spectrograms. Doesn't work at all."
   ]
  },
  {
   "cell_type": "code",
   "execution_count": 1,
   "metadata": {},
   "outputs": [
    {
     "name": "stderr",
     "output_type": "stream",
     "text": [
      "Using TensorFlow backend.\n"
     ]
    }
   ],
   "source": [
    "import os\n",
    "import numpy as np\n",
    "import pandas as pd\n",
    "from scipy.io import wavfile\n",
    "from keras.utils.np_utils import to_categorical\n",
    "from tqdm import tqdm\n",
    "from utils import which_set, BASE_TRAIN_FOLDER_SPEC, BASE_TRAIN_FOLDER_WAV, labels_to_ints"
   ]
  },
  {
   "cell_type": "code",
   "execution_count": 4,
   "metadata": {},
   "outputs": [],
   "source": [
    "from keras.models import Sequential\n",
    "from keras.layers import Dense, Activation, Dropout, Conv1D, BatchNormalization, MaxPooling1D\n",
    "from keras.optimizers import SGD"
   ]
  },
  {
   "cell_type": "code",
   "execution_count": 112,
   "metadata": {},
   "outputs": [],
   "source": [
    "def make_sets(set_name):\n",
    "    x = []\n",
    "    y = []\n",
    "    folder = os.path.join(BASE_TRAIN_FOLDER_SPEC, set_name)\n",
    "    i = 0\n",
    "    for filename in os.listdir(folder):\n",
    "        if filename.startswith('.'):\n",
    "            continue\n",
    "        label = filename.split('.')[0]\n",
    "        inputs = np.load(os.path.join(folder, filename))\n",
    "        inputs = inputs.reshape(-1, inputs.shape[1] * inputs.shape[2]) # needed by RNN\n",
    "        y.append([labels_to_ints[label]] * len(inputs))\n",
    "        x.append(inputs)\n",
    "        i += 1\n",
    "    \n",
    "    x = np.concatenate(x)\n",
    "    y = to_categorical(np.concatenate(y), num_classes=len(labels_to_ints))\n",
    "    \n",
    "    return x, y"
   ]
  },
  {
   "cell_type": "code",
   "execution_count": 113,
   "metadata": {},
   "outputs": [],
   "source": [
    "x_train, y_train = make_sets(\"train\")"
   ]
  },
  {
   "cell_type": "code",
   "execution_count": 114,
   "metadata": {},
   "outputs": [
    {
     "data": {
      "text/plain": [
       "((51490, 2048), (51490, 31))"
      ]
     },
     "execution_count": 114,
     "metadata": {},
     "output_type": "execute_result"
    }
   ],
   "source": [
    "x_train.shape, y_train.shape"
   ]
  },
  {
   "cell_type": "code",
   "execution_count": 115,
   "metadata": {},
   "outputs": [],
   "source": [
    "x_val, y_val = make_sets(\"validation\")"
   ]
  },
  {
   "cell_type": "code",
   "execution_count": 116,
   "metadata": {},
   "outputs": [
    {
     "data": {
      "text/plain": [
       "((6798, 2048), (6798, 31))"
      ]
     },
     "execution_count": 116,
     "metadata": {},
     "output_type": "execute_result"
    }
   ],
   "source": [
    "x_val.shape, y_val.shape"
   ]
  },
  {
   "cell_type": "code",
   "execution_count": 117,
   "metadata": {},
   "outputs": [],
   "source": [
    "x_test, y_test = make_sets(\"testing\")"
   ]
  },
  {
   "cell_type": "code",
   "execution_count": 118,
   "metadata": {},
   "outputs": [
    {
     "data": {
      "text/plain": [
       "((6835, 2048), (6835, 31))"
      ]
     },
     "execution_count": 118,
     "metadata": {},
     "output_type": "execute_result"
    }
   ],
   "source": [
    "x_test.shape, y_test.shape"
   ]
  },
  {
   "cell_type": "code",
   "execution_count": 5,
   "metadata": {},
   "outputs": [
    {
     "name": "stdout",
     "output_type": "stream",
     "text": [
      "WARNING:tensorflow:From /Library/Frameworks/Python.framework/Versions/3.7/lib/python3.7/site-packages/tensorflow/python/framework/op_def_library.py:263: colocate_with (from tensorflow.python.framework.ops) is deprecated and will be removed in a future version.\n",
      "Instructions for updating:\n",
      "Colocations handled automatically by placer.\n",
      "WARNING:tensorflow:From /Library/Frameworks/Python.framework/Versions/3.7/lib/python3.7/site-packages/keras/backend/tensorflow_backend.py:3445: calling dropout (from tensorflow.python.ops.nn_ops) with keep_prob is deprecated and will be removed in a future version.\n",
      "Instructions for updating:\n",
      "Please use `rate` instead of `keep_prob`. Rate should be set to `rate = 1 - keep_prob`.\n"
     ]
    }
   ],
   "source": [
    "model = Sequential()\n",
    "# Dense(64) is a fully-connected layer with 64 hidden units.\n",
    "# in the first layer, you must specify the expected input data shape:\n",
    "model.add(Dense(64, activation='relu', input_dim=2048))\n",
    "model.add(Dropout(0.1))\n",
    "model.add(Dense(1000, activation='relu'))\n",
    "#model.add(Dropout(0.5))\n",
    "model.add(Dense(31, activation='softmax'))"
   ]
  },
  {
   "cell_type": "code",
   "execution_count": 126,
   "metadata": {},
   "outputs": [],
   "source": [
    "sgd = SGD(lr=0.01, decay=1e-6, momentum=0.9, nesterov=True)\n",
    "model.compile(loss='categorical_crossentropy',\n",
    "              optimizer=sgd,\n",
    "              metrics=['accuracy'])"
   ]
  },
  {
   "cell_type": "code",
   "execution_count": 127,
   "metadata": {},
   "outputs": [
    {
     "name": "stdout",
     "output_type": "stream",
     "text": [
      "Train on 51490 samples, validate on 6798 samples\n",
      "Epoch 1/20\n",
      "51490/51490 [==============================] - 4s 78us/step - loss: 3.4260 - acc: 0.0351 - val_loss: 3.4026 - val_acc: 0.0357\n",
      "Epoch 2/20\n",
      "51490/51490 [==============================] - 4s 70us/step - loss: 3.4129 - acc: 0.0357 - val_loss: 3.3977 - val_acc: 0.0377\n",
      "Epoch 3/20\n",
      "51490/51490 [==============================] - 3s 68us/step - loss: 3.4124 - acc: 0.0362 - val_loss: 3.3965 - val_acc: 0.0385\n",
      "Epoch 4/20\n",
      "51490/51490 [==============================] - 4s 71us/step - loss: 3.4123 - acc: 0.0341 - val_loss: 3.3961 - val_acc: 0.0362\n",
      "Epoch 5/20\n",
      "51490/51490 [==============================] - 4s 70us/step - loss: 3.4123 - acc: 0.0356 - val_loss: 3.3961 - val_acc: 0.0387\n",
      "Epoch 6/20\n",
      "51490/51490 [==============================] - 4s 70us/step - loss: 3.4122 - acc: 0.0355 - val_loss: 3.3957 - val_acc: 0.0377\n",
      "Epoch 7/20\n",
      "51490/51490 [==============================] - 4s 72us/step - loss: 3.4122 - acc: 0.0350 - val_loss: 3.3957 - val_acc: 0.0338\n",
      "Epoch 8/20\n",
      "51490/51490 [==============================] - 4s 69us/step - loss: 3.4123 - acc: 0.0359 - val_loss: 3.3960 - val_acc: 0.0338\n",
      "Epoch 9/20\n",
      "51490/51490 [==============================] - 4s 69us/step - loss: 3.4123 - acc: 0.0356 - val_loss: 3.3956 - val_acc: 0.0362\n",
      "Epoch 10/20\n",
      "51490/51490 [==============================] - 4s 69us/step - loss: 3.4122 - acc: 0.0349 - val_loss: 3.3957 - val_acc: 0.0362\n",
      "Epoch 11/20\n",
      "51490/51490 [==============================] - 4s 84us/step - loss: 3.4123 - acc: 0.0352 - val_loss: 3.3960 - val_acc: 0.0347\n",
      "Epoch 12/20\n",
      "51490/51490 [==============================] - 4s 82us/step - loss: 3.4122 - acc: 0.0359 - val_loss: 3.3956 - val_acc: 0.0362\n",
      "Epoch 13/20\n",
      "51490/51490 [==============================] - 4s 74us/step - loss: 3.4122 - acc: 0.0344 - val_loss: 3.3956 - val_acc: 0.0362\n",
      "Epoch 14/20\n",
      "51490/51490 [==============================] - 4s 70us/step - loss: 3.4122 - acc: 0.0361 - val_loss: 3.3958 - val_acc: 0.0382\n",
      "Epoch 15/20\n",
      "51490/51490 [==============================] - 5s 95us/step - loss: 3.4122 - acc: 0.0351 - val_loss: 3.3958 - val_acc: 0.0382\n",
      "Epoch 16/20\n",
      "51490/51490 [==============================] - 4s 71us/step - loss: 3.4122 - acc: 0.0351 - val_loss: 3.3958 - val_acc: 0.0387\n",
      "Epoch 17/20\n",
      "51490/51490 [==============================] - 4s 78us/step - loss: 3.4122 - acc: 0.0373 - val_loss: 3.3956 - val_acc: 0.0385\n",
      "Epoch 18/20\n",
      "51490/51490 [==============================] - 4s 73us/step - loss: 3.4122 - acc: 0.0348 - val_loss: 3.3958 - val_acc: 0.0338\n",
      "Epoch 19/20\n",
      "51490/51490 [==============================] - 4s 77us/step - loss: 3.4122 - acc: 0.0352 - val_loss: 3.3958 - val_acc: 0.0397\n",
      "Epoch 20/20\n",
      "51490/51490 [==============================] - 4s 83us/step - loss: 3.4123 - acc: 0.0355 - val_loss: 3.3956 - val_acc: 0.0338\n"
     ]
    },
    {
     "data": {
      "text/plain": [
       "<keras.callbacks.History at 0x12f2b2f60>"
      ]
     },
     "execution_count": 127,
     "metadata": {},
     "output_type": "execute_result"
    }
   ],
   "source": [
    "model.fit(x_train, y_train,\n",
    "          epochs=20,\n",
    "          batch_size=128,\n",
    "          validation_data=(x_val, y_val)\n",
    "         )"
   ]
  },
  {
   "cell_type": "code",
   "execution_count": 123,
   "metadata": {},
   "outputs": [
    {
     "name": "stdout",
     "output_type": "stream",
     "text": [
      "6835/6835 [==============================] - 0s 37us/step\n"
     ]
    }
   ],
   "source": [
    "score = model.evaluate(x_test, y_test, batch_size=128)"
   ]
  },
  {
   "cell_type": "code",
   "execution_count": 124,
   "metadata": {},
   "outputs": [
    {
     "data": {
      "text/plain": [
       "[3.3946430204554727, 0.03789319678127286]"
      ]
     },
     "execution_count": 124,
     "metadata": {},
     "output_type": "execute_result"
    }
   ],
   "source": [
    "score"
   ]
  },
  {
   "cell_type": "code",
   "execution_count": null,
   "metadata": {},
   "outputs": [],
   "source": []
  }
 ],
 "metadata": {
  "kernelspec": {
   "display_name": "Python 3",
   "language": "python",
   "name": "python3"
  },
  "language_info": {
   "codemirror_mode": {
    "name": "ipython",
    "version": 3
   },
   "file_extension": ".py",
   "mimetype": "text/x-python",
   "name": "python",
   "nbconvert_exporter": "python",
   "pygments_lexer": "ipython3",
   "version": "3.7.1"
  }
 },
 "nbformat": 4,
 "nbformat_minor": 2
}
