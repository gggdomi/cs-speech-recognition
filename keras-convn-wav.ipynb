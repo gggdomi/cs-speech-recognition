{
 "cells": [
  {
   "cell_type": "code",
   "execution_count": 1,
   "metadata": {},
   "outputs": [
    {
     "name": "stderr",
     "output_type": "stream",
     "text": [
      "Using TensorFlow backend.\n"
     ]
    }
   ],
   "source": [
    "import os\n",
    "import numpy as np\n",
    "import pandas as pd\n",
    "from scipy.io import wavfile\n",
    "from keras.utils.np_utils import to_categorical\n",
    "from tqdm import tqdm\n",
    "from utils import wav2arr1s, which_set, BASE_TRAIN_FOLDER_SPEC, BASE_TRAIN_FOLDER_WAV, labels_to_ints"
   ]
  },
  {
   "cell_type": "code",
   "execution_count": 2,
   "metadata": {},
   "outputs": [],
   "source": [
    "from keras.models import Sequential\n",
    "from keras.layers import Dense, Activation, Dropout, Conv1D, BatchNormalization, MaxPooling1D, Flatten\n",
    "from keras.optimizers import SGD"
   ]
  },
  {
   "cell_type": "markdown",
   "metadata": {},
   "source": [
    "### Load dataset\n",
    "From compiled files. See wav-compile.ipynb"
   ]
  },
  {
   "cell_type": "code",
   "execution_count": 3,
   "metadata": {},
   "outputs": [],
   "source": [
    "COMPILED_FOLDER = \"compiled-wav\""
   ]
  },
  {
   "cell_type": "code",
   "execution_count": 4,
   "metadata": {},
   "outputs": [],
   "source": [
    "x_train = np.load(os.path.join(COMPILED_FOLDER, f\"x_train.npy\"))\n",
    "y_train = np.load(os.path.join(COMPILED_FOLDER, f\"y_train.npy\"))"
   ]
  },
  {
   "cell_type": "code",
   "execution_count": 5,
   "metadata": {},
   "outputs": [],
   "source": [
    "x_val = np.load(os.path.join(COMPILED_FOLDER, f\"x_validation.npy\"))\n",
    "y_val = np.load(os.path.join(COMPILED_FOLDER, f\"y_validation.npy\"))"
   ]
  },
  {
   "cell_type": "code",
   "execution_count": 6,
   "metadata": {},
   "outputs": [],
   "source": [
    "x_test = np.load(os.path.join(COMPILED_FOLDER, f\"x_testing.npy\"))\n",
    "y_test = np.load(os.path.join(COMPILED_FOLDER, f\"y_testing.npy\"))"
   ]
  },
  {
   "cell_type": "code",
   "execution_count": 7,
   "metadata": {},
   "outputs": [],
   "source": [
    "x_train = np.reshape(x_train, (*x_train.shape, 1))\n",
    "x_test = np.reshape(x_test, (*x_test.shape, 1))\n",
    "x_val = np.reshape(x_val, (*x_val.shape, 1))"
   ]
  },
  {
   "cell_type": "code",
   "execution_count": 8,
   "metadata": {},
   "outputs": [
    {
     "data": {
      "text/plain": [
       "((51490, 8000, 1),\n",
       " (51490, 31),\n",
       " (6798, 8000, 1),\n",
       " (6798, 31),\n",
       " (6835, 8000, 1),\n",
       " (6835, 31))"
      ]
     },
     "execution_count": 8,
     "metadata": {},
     "output_type": "execute_result"
    }
   ],
   "source": [
    "x_train.shape, y_train.shape, x_val.shape, y_val.shape, x_test.shape, y_test.shape"
   ]
  },
  {
   "cell_type": "code",
   "execution_count": 9,
   "metadata": {},
   "outputs": [],
   "source": [
    "# Source : https://www.kaggle.com/c/tensorflow-speech-recognition-challenge/discussion/44283#256644\n",
    "model = Sequential()\n",
    "for i in range(6): \n",
    "    model.add(Conv1D(8*(2 ** i), (3),padding = 'same'))\n",
    "    model.add(BatchNormalization())\n",
    "    model.add(Activation('relu'))\n",
    "    model.add(MaxPooling1D((2), padding='same'))"
   ]
  },
  {
   "cell_type": "code",
   "execution_count": 10,
   "metadata": {},
   "outputs": [],
   "source": [
    "model.add(Dense(1024, activation = 'relu', name= 'dense1024'))\n",
    "model.add(Dropout(0.2))\n",
    "model.add(Flatten())\n",
    "model.add(Dense(len(labels_to_ints), activation = 'softmax'))"
   ]
  },
  {
   "cell_type": "code",
   "execution_count": 11,
   "metadata": {},
   "outputs": [
    {
     "name": "stdout",
     "output_type": "stream",
     "text": [
      "WARNING:tensorflow:From /Library/Frameworks/Python.framework/Versions/3.7/lib/python3.7/site-packages/tensorflow/python/framework/op_def_library.py:263: colocate_with (from tensorflow.python.framework.ops) is deprecated and will be removed in a future version.\n",
      "Instructions for updating:\n",
      "Colocations handled automatically by placer.\n"
     ]
    }
   ],
   "source": [
    "sgd = SGD(lr=0.01, decay=1e-6, momentum=0.9, nesterov=True)\n",
    "model.compile(loss='categorical_crossentropy',\n",
    "              optimizer=sgd,\n",
    "              metrics=['accuracy'])"
   ]
  },
  {
   "cell_type": "code",
   "execution_count": 21,
   "metadata": {},
   "outputs": [
    {
     "name": "stdout",
     "output_type": "stream",
     "text": [
      "WARNING:tensorflow:From /Library/Frameworks/Python.framework/Versions/3.7/lib/python3.7/site-packages/tensorflow/python/ops/math_ops.py:3066: to_int32 (from tensorflow.python.ops.math_ops) is deprecated and will be removed in a future version.\n",
      "Instructions for updating:\n",
      "Use tf.cast instead.\n",
      "Train on 51490 samples, validate on 6798 samples\n",
      "Epoch 1/25\n",
      "51490/51490 [==============================] - 1144s 22ms/step - loss: 2.3033 - acc: 0.3678 - val_loss: 12.6918 - val_acc: 0.0550\n",
      "Epoch 2/25\n",
      "51490/51490 [==============================] - 1102s 21ms/step - loss: 1.2736 - acc: 0.6524 - val_loss: 13.7624 - val_acc: 0.0508\n",
      "Epoch 3/25\n",
      "51490/51490 [==============================] - 1124s 22ms/step - loss: 0.8443 - acc: 0.7658 - val_loss: 14.5287 - val_acc: 0.0430\n",
      "Epoch 4/25\n",
      "51490/51490 [==============================] - 1117s 22ms/step - loss: 0.6101 - acc: 0.8287 - val_loss: 8.4630 - val_acc: 0.1612\n",
      "Epoch 5/25\n",
      "51490/51490 [==============================] - 1116s 22ms/step - loss: 0.4435 - acc: 0.8749 - val_loss: 9.4019 - val_acc: 0.1409\n",
      "Epoch 6/25\n",
      "51490/51490 [==============================] - 1132s 22ms/step - loss: 0.3304 - acc: 0.9059 - val_loss: 14.1452 - val_acc: 0.0513\n",
      "Epoch 7/25\n",
      "51490/51490 [==============================] - 1112s 22ms/step - loss: 0.2485 - acc: 0.9305 - val_loss: 15.3219 - val_acc: 0.0313\n",
      "Epoch 8/25\n",
      "51490/51490 [==============================] - 1108s 22ms/step - loss: 0.1961 - acc: 0.9472 - val_loss: 7.5676 - val_acc: 0.2382\n",
      "Epoch 9/25\n",
      "51490/51490 [==============================] - 1126s 22ms/step - loss: 0.1509 - acc: 0.9604 - val_loss: 1.7674 - val_acc: 0.6122\n",
      "Epoch 10/25\n",
      "51490/51490 [==============================] - 1106s 21ms/step - loss: 0.1271 - acc: 0.9667 - val_loss: 2.2160 - val_acc: 0.5357\n",
      "Epoch 11/25\n",
      "51490/51490 [==============================] - 1095s 21ms/step - loss: 0.1024 - acc: 0.9737 - val_loss: 2.4897 - val_acc: 0.4903\n",
      "Epoch 12/25\n",
      "51490/51490 [==============================] - 1109s 22ms/step - loss: 0.0947 - acc: 0.9758 - val_loss: 9.2314 - val_acc: 0.2351\n",
      "Epoch 13/25\n",
      "51490/51490 [==============================] - 1112s 22ms/step - loss: 0.0747 - acc: 0.9819 - val_loss: 3.9018 - val_acc: 0.3973\n",
      "Epoch 14/25\n",
      "51490/51490 [==============================] - 1100s 21ms/step - loss: 0.0760 - acc: 0.9812 - val_loss: 2.2807 - val_acc: 0.5812\n",
      "Epoch 15/25\n",
      "51490/51490 [==============================] - 1108s 22ms/step - loss: 0.0698 - acc: 0.9823 - val_loss: 2.3363 - val_acc: 0.6021\n",
      "Epoch 16/25\n",
      "51490/51490 [==============================] - 1137s 22ms/step - loss: 0.0610 - acc: 0.9850 - val_loss: 2.6862 - val_acc: 0.5610\n",
      "Epoch 17/25\n",
      "51490/51490 [==============================] - 1109s 22ms/step - loss: 0.0591 - acc: 0.9852 - val_loss: 2.6419 - val_acc: 0.5674\n",
      "Epoch 18/25\n",
      "51490/51490 [==============================] - 1109s 22ms/step - loss: 0.0548 - acc: 0.9862 - val_loss: 15.0476 - val_acc: 0.0422\n",
      "Epoch 19/25\n",
      "51490/51490 [==============================] - 1132s 22ms/step - loss: 0.0489 - acc: 0.9883 - val_loss: 2.6548 - val_acc: 0.5874\n",
      "Epoch 20/25\n",
      "51490/51490 [==============================] - 1112s 22ms/step - loss: 0.0490 - acc: 0.9878 - val_loss: 2.4491 - val_acc: 0.6293\n",
      "Epoch 21/25\n",
      "51490/51490 [==============================] - 1112s 22ms/step - loss: 0.0449 - acc: 0.9894 - val_loss: 12.1431 - val_acc: 0.1356\n",
      "Epoch 22/25\n",
      "51490/51490 [==============================] - 1132s 22ms/step - loss: 0.0422 - acc: 0.9900 - val_loss: 2.1038 - val_acc: 0.6521\n",
      "Epoch 23/25\n",
      "51490/51490 [==============================] - 1117s 22ms/step - loss: 0.0433 - acc: 0.9893 - val_loss: 6.7593 - val_acc: 0.3494\n",
      "Epoch 24/25\n",
      "51490/51490 [==============================] - 1117s 22ms/step - loss: 0.0459 - acc: 0.9883 - val_loss: 8.0642 - val_acc: 0.3177\n",
      "Epoch 25/25\n",
      "51490/51490 [==============================] - 1128s 22ms/step - loss: 0.0478 - acc: 0.9880 - val_loss: 2.7260 - val_acc: 0.5610\n"
     ]
    }
   ],
   "source": [
    "h = model.fit(x_train, y_train,\n",
    "          epochs=25,\n",
    "          batch_size=128,\n",
    "          validation_data=(x_val, y_val)\n",
    "         )"
   ]
  },
  {
   "cell_type": "markdown",
   "metadata": {},
   "source": [
    "#### Courbes d'apprentissage"
   ]
  },
  {
   "cell_type": "code",
   "execution_count": 25,
   "metadata": {},
   "outputs": [],
   "source": [
    "import json\n",
    "with open('model-wav-conv-metrics.json', 'w') as f:\n",
    "    json.dump(h.history, f)"
   ]
  },
  {
   "cell_type": "markdown",
   "metadata": {},
   "source": [
    "#### Note : la val accuracy / loss fait n'imp"
   ]
  },
  {
   "cell_type": "code",
   "execution_count": 27,
   "metadata": {},
   "outputs": [
    {
     "data": {
      "text/plain": [
       "<matplotlib.axes._subplots.AxesSubplot at 0x16cbe51d0>"
      ]
     },
     "execution_count": 27,
     "metadata": {},
     "output_type": "execute_result"
    },
    {
     "data": {
      "image/png": "[encoded data removed]",
      "text/plain": [
       "<Figure size 432x288 with 1 Axes>"
      ]
     },
     "metadata": {
      "needs_background": "light"
     },
     "output_type": "display_data"
    }
   ],
   "source": [
    "import seaborn as sns\n",
    "\n",
    "sns.lineplot(x=list(range(len(h.history[\"val_acc\"]))), y=h.history[\"val_acc\"])\n",
    "sns.lineplot(x=list(range(len(h.history[\"val_acc\"]))), y=h.history[\"acc\"])"
   ]
  },
  {
   "cell_type": "code",
   "execution_count": 28,
   "metadata": {},
   "outputs": [
    {
     "data": {
      "text/plain": [
       "<matplotlib.axes._subplots.AxesSubplot at 0x16cbab908>"
      ]
     },
     "execution_count": 28,
     "metadata": {},
     "output_type": "execute_result"
    },
    {
     "data": {
      "image/png": "[encoded data removed]",
      "text/plain": [
       "<Figure size 432x288 with 1 Axes>"
      ]
     },
     "metadata": {
      "needs_background": "light"
     },
     "output_type": "display_data"
    }
   ],
   "source": [
    "import seaborn as sns\n",
    "\n",
    "sns.lineplot(x=list(range(len(h.history[\"val_acc\"]))), y=h.history[\"val_loss\"])\n",
    "sns.lineplot(x=list(range(len(h.history[\"val_acc\"]))), y=h.history[\"loss\"])\n",
    "\n",
    "\n"
   ]
  },
  {
   "cell_type": "code",
   "execution_count": 29,
   "metadata": {},
   "outputs": [
    {
     "name": "stdout",
     "output_type": "stream",
     "text": [
      "6835/6835 [==============================] - 42s 6ms/step\n"
     ]
    }
   ],
   "source": [
    "score = model.evaluate(x_test, y_test, batch_size=128)"
   ]
  },
  {
   "cell_type": "code",
   "execution_count": 31,
   "metadata": {},
   "outputs": [
    {
     "data": {
      "text/plain": [
       "[2.7751166023123237, 0.5644476958758307]"
      ]
     },
     "execution_count": 31,
     "metadata": {},
     "output_type": "execute_result"
    }
   ],
   "source": [
    "score\n"
   ]
  },
  {
   "cell_type": "code",
   "execution_count": null,
   "metadata": {},
   "outputs": [],
   "source": [
    "model.save(\"model-wav-conv-25epochs.h5\")"
   ]
  }
 ],
 "metadata": {
  "kernelspec": {
   "display_name": "Python 3",
   "language": "python",
   "name": "python3"
  },
  "language_info": {
   "codemirror_mode": {
    "name": "ipython",
    "version": 3
   },
   "file_extension": ".py",
   "mimetype": "text/x-python",
   "name": "python",
   "nbconvert_exporter": "python",
   "pygments_lexer": "ipython3",
   "version": "3.7.1"
  }
 },
 "nbformat": 4,
 "nbformat_minor": 2
}
