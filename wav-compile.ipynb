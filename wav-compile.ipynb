{
 "cells": [
  {
   "cell_type": "code",
   "execution_count": 1,
   "metadata": {},
   "outputs": [
    {
     "name": "stderr",
     "output_type": "stream",
     "text": [
      "Using TensorFlow backend.\n"
     ]
    }
   ],
   "source": [
    "import os\n",
    "import numpy as np\n",
    "import pandas as pd\n",
    "from scipy.io import wavfile\n",
    "from keras.utils.np_utils import to_categorical\n",
    "from tqdm import tqdm\n",
    "from utils import which_set, BASE_TRAIN_FOLDER_SPEC, BASE_TRAIN_FOLDER_WAV, labels_to_ints"
   ]
  },
  {
   "cell_type": "code",
   "execution_count": 6,
   "metadata": {},
   "outputs": [],
   "source": [
    "sets = {\n",
    "    \"train\": {\n",
    "        \"x\": [],\n",
    "        \"y\": [],\n",
    "    },\n",
    "    \"validation\": {\n",
    "        \"x\": [],\n",
    "        \"y\": [],\n",
    "    },\n",
    "    \"testing\": {\n",
    "        \"x\": [],\n",
    "        \"y\": [],\n",
    "    }\n",
    "}"
   ]
  },
  {
   "cell_type": "code",
   "execution_count": 7,
   "metadata": {},
   "outputs": [],
   "source": [
    "RESAMPLE_RATE = 8000"
   ]
  },
  {
   "cell_type": "code",
   "execution_count": 8,
   "metadata": {},
   "outputs": [
    {
     "name": "stderr",
     "output_type": "stream",
     "text": [
      "right: 2367it [00:05, 396.88it/s]\n",
      "eight: 2352it [00:07, 319.35it/s]\n",
      "cat: 1733it [00:05, 300.07it/s]\n",
      "tree: 1733it [00:08, 202.98it/s]\n",
      "bed: 1713it [00:11, 146.83it/s]\n",
      "happy: 1742it [00:11, 158.19it/s]\n",
      "go: 2372it [00:15, 149.31it/s]\n",
      "silence: 402it [00:01, 226.59it/s]\n",
      "dog: 1746it [00:11, 150.68it/s]\n",
      "no: 2375it [00:16, 143.39it/s]\n",
      "wow: 1745it [00:11, 146.29it/s]\n",
      "nine: 2364it [00:13, 170.33it/s]\n",
      "left: 2353it [00:13, 174.93it/s]\n",
      "stop: 2380it [00:16, 143.85it/s]\n",
      "three: 2356it [00:16, 144.94it/s]\n",
      "sheila: 1734it [00:12, 141.58it/s]\n",
      "one: 2370it [00:17, 138.16it/s]\n",
      "bird: 1731it [00:11, 133.68it/s]\n",
      "zero: 2376it [00:14, 166.18it/s]\n",
      "seven: 2377it [00:15, 155.52it/s]\n",
      "up: 2375it [00:18, 130.58it/s]\n",
      "marvin: 1746it [00:12, 142.56it/s]\n",
      "two: 2373it [00:16, 141.60it/s]\n",
      "house: 1750it [00:12, 138.72it/s]\n",
      "down: 2359it [00:16, 141.31it/s]\n",
      "six: 2369it [00:15, 157.82it/s]\n",
      "yes: 2377it [00:14, 165.79it/s]\n",
      "on: 2367it [00:15, 156.37it/s]\n",
      "five: 2357it [00:14, 160.38it/s]\n",
      "off: 2357it [00:15, 149.34it/s]\n",
      "four: 2372it [00:20, 117.65it/s]\n"
     ]
    }
   ],
   "source": [
    "for label in os.listdir(BASE_TRAIN_FOLDER_WAV):\n",
    "    label_folder_wav = os.path.join(BASE_TRAIN_FOLDER_WAV, label)\n",
    "    if not os.path.isdir(label_folder_wav):\n",
    "        continue\n",
    "    if label.startswith('_'):\n",
    "        continue\n",
    "\n",
    "    label_files = [\n",
    "        filename for filename in os.listdir(label_folder_wav) \n",
    "        if filename.endswith('.wav')\n",
    "    ]\n",
    "    for i, filename in tqdm(enumerate(label_files), desc=f\"{label}\"):\n",
    "        file_path = os.path.join(label_folder_wav, filename)\n",
    "        sample_rate, samples = wav2arr1s(file_path, sample_rate=RESAMPLE_RATE)\n",
    "        samples = samples.astype(np.float16)\n",
    "        set_name = which_set(filename, 10, 10)\n",
    "        \n",
    "        sets[set_name][\"x\"].append(samples)\n",
    "        sets[set_name][\"y\"].append(labels_to_ints[label])"
   ]
  },
  {
   "cell_type": "code",
   "execution_count": 9,
   "metadata": {},
   "outputs": [
    {
     "data": {
      "text/plain": [
       "((51490, 8000), (51490,))"
      ]
     },
     "execution_count": 9,
     "metadata": {},
     "output_type": "execute_result"
    }
   ],
   "source": [
    "np.array(sets[\"train\"][\"x\"]).shape, np.array(sets[\"train\"][\"y\"]).shape"
   ]
  },
  {
   "cell_type": "code",
   "execution_count": 8,
   "metadata": {},
   "outputs": [],
   "source": [
    "COMPILED_FOLDER = \"compiled-wav\""
   ]
  },
  {
   "cell_type": "code",
   "execution_count": 11,
   "metadata": {},
   "outputs": [],
   "source": [
    "os.makedirs(COMPILED_FOLDER, exist_ok=True)\n",
    "for set_name in [\"train\", \"validation\", \"testing\"]:\n",
    "    sets[set_name][\"x\"] = np.array(sets[set_name][\"x\"])\n",
    "    sets[set_name][\"y\"] = to_categorical(sets[set_name][\"y\"], num_classes=len(labels_to_ints))\n",
    "    np.save(os.path.join(COMPILED_FOLDER, f\"x_{set_name}.npy\"), sets[set_name][\"x\"])\n",
    "    np.save(os.path.join(COMPILED_FOLDER, f\"y_{set_name}.npy\"), sets[set_name][\"y\"])"
   ]
  }
 ],
 "metadata": {
  "kernelspec": {
   "display_name": "Python 3",
   "language": "python",
   "name": "python3"
  },
  "language_info": {
   "codemirror_mode": {
    "name": "ipython",
    "version": 3
   },
   "file_extension": ".py",
   "mimetype": "text/x-python",
   "name": "python",
   "nbconvert_exporter": "python",
   "pygments_lexer": "ipython3",
   "version": "3.7.1"
  }
 },
 "nbformat": 4,
 "nbformat_minor": 2
}
